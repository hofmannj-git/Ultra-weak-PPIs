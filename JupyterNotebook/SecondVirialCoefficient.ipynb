{
 "cells": [
  {
   "cell_type": "code",
   "execution_count": 7,
   "id": "1e982a46",
   "metadata": {},
   "outputs": [
    {
     "name": "stdout",
     "output_type": "stream",
     "text": [
      "eps = 0.0: 1.00\n",
      "eps = 0.5: 0.82\n",
      "eps = 1.0: 0.59\n",
      "eps = 1.5: 0.28\n",
      "eps = 2.0: -0.13\n",
      "eps = 2.5: -0.69\n",
      "eps = 3.0: -1.47\n",
      "eps = 4.0: -4.16\n",
      "eps = 5.0: -9.89\n",
      "eps = 6.0: -22.60\n"
     ]
    }
   ],
   "source": [
    "import math\n",
    "import numpy as np\n",
    "import networkx, pylab\n",
    "from matplotlib import pyplot\n",
    "from scipy.integrate import quad\n",
    "\n",
    "def integrand_hs(r_in, D_in, a_in, eps_in):\n",
    "    return (math.exp(-(D_in*(1-math.exp(-a_in*(r_in-1)))**2-eps_in))-1)*(r_in**2)\n",
    "\n",
    "def integrand_dh(r_in, eps_in, z_in):\n",
    "    return (math.exp(-(-eps_in/r_in * math.exp(-z_in*(r_in-1))))-1)*(r_in**2)\n",
    "\n",
    "D = 6\n",
    "a = 60\n",
    "z = 10.4\n",
    "eps_all = [0, 0.5, 1, 1.5, 2, 2.5, 3, 4, 5, 6]\n",
    "\n",
    "for i in range(0,len(eps_all)):\n",
    "    eps = eps_all[i]\n",
    "    I = (quad(integrand_hs, 0, 1, args=(D,a,0))[0] + quad(integrand_dh, 1, np.inf, args=(eps,z))[0])/(quad(integrand_hs, 0, 1, args=(D,a,0))[0])\n",
    "    print('eps = {:.1f}: {:.2f}'.format(eps, I))\n",
    "    "
   ]
  }
 ],
 "metadata": {
  "kernelspec": {
   "display_name": "Python 3 (ipykernel)",
   "language": "python",
   "name": "python3"
  },
  "language_info": {
   "codemirror_mode": {
    "name": "ipython",
    "version": 3
   },
   "file_extension": ".py",
   "mimetype": "text/x-python",
   "name": "python",
   "nbconvert_exporter": "python",
   "pygments_lexer": "ipython3",
   "version": "3.8.5"
  }
 },
 "nbformat": 4,
 "nbformat_minor": 5
}
